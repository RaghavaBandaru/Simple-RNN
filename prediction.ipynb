{
 "cells": [
  {
   "cell_type": "code",
   "execution_count": 4,
   "id": "5ca5a1f3",
   "metadata": {},
   "outputs": [],
   "source": [
    "import numpy as np\n",
    "import tensorflow as tf\n",
    "from tensorflow.keras.datasets import imdb\n",
    "from tensorflow.keras.preprocessing import sequence\n",
    "from tensorflow.keras.models import load_model"
   ]
  },
  {
   "cell_type": "code",
   "execution_count": 5,
   "id": "017b582a",
   "metadata": {},
   "outputs": [],
   "source": [
    "## Load the IMBD dataset word index\n",
    "\n",
    "word_index = imdb.get_word_index()\n",
    "# Reverse the word index to get words from indices\n",
    "reverse_word_index = {value: key for key, value in word_index.items()}\n",
    "\n",
    "\n"
   ]
  },
  {
   "cell_type": "code",
   "execution_count": 6,
   "id": "0e99fd87",
   "metadata": {},
   "outputs": [
    {
     "name": "stderr",
     "output_type": "stream",
     "text": [
      "WARNING:absl:Compiled the loaded model, but the compiled metrics have yet to be built. `model.compile_metrics` will be empty until you train or evaluate the model.\n"
     ]
    },
    {
     "data": {
      "text/html": [
       "<pre style=\"white-space:pre;overflow-x:auto;line-height:normal;font-family:Menlo,'DejaVu Sans Mono',consolas,'Courier New',monospace\"><span style=\"font-weight: bold\">Model: \"sequential_3\"</span>\n",
       "</pre>\n"
      ],
      "text/plain": [
       "\u001b[1mModel: \"sequential_3\"\u001b[0m\n"
      ]
     },
     "metadata": {},
     "output_type": "display_data"
    },
    {
     "data": {
      "text/html": [
       "<pre style=\"white-space:pre;overflow-x:auto;line-height:normal;font-family:Menlo,'DejaVu Sans Mono',consolas,'Courier New',monospace\">┏━━━━━━━━━━━━━━━━━━━━━━━━━━━━━━━━━┳━━━━━━━━━━━━━━━━━━━━━━━━┳━━━━━━━━━━━━━━━┓\n",
       "┃<span style=\"font-weight: bold\"> Layer (type)                    </span>┃<span style=\"font-weight: bold\"> Output Shape           </span>┃<span style=\"font-weight: bold\">       Param # </span>┃\n",
       "┡━━━━━━━━━━━━━━━━━━━━━━━━━━━━━━━━━╇━━━━━━━━━━━━━━━━━━━━━━━━╇━━━━━━━━━━━━━━━┩\n",
       "│ embedding_1 (<span style=\"color: #0087ff; text-decoration-color: #0087ff\">Embedding</span>)         │ (<span style=\"color: #00af00; text-decoration-color: #00af00\">32</span>, <span style=\"color: #00af00; text-decoration-color: #00af00\">500</span>, <span style=\"color: #00af00; text-decoration-color: #00af00\">128</span>)         │     <span style=\"color: #00af00; text-decoration-color: #00af00\">1,280,000</span> │\n",
       "├─────────────────────────────────┼────────────────────────┼───────────────┤\n",
       "│ simple_rnn_1 (<span style=\"color: #0087ff; text-decoration-color: #0087ff\">SimpleRNN</span>)        │ (<span style=\"color: #00af00; text-decoration-color: #00af00\">32</span>, <span style=\"color: #00af00; text-decoration-color: #00af00\">128</span>)              │        <span style=\"color: #00af00; text-decoration-color: #00af00\">32,896</span> │\n",
       "├─────────────────────────────────┼────────────────────────┼───────────────┤\n",
       "│ dense_1 (<span style=\"color: #0087ff; text-decoration-color: #0087ff\">Dense</span>)                 │ (<span style=\"color: #00af00; text-decoration-color: #00af00\">32</span>, <span style=\"color: #00af00; text-decoration-color: #00af00\">1</span>)                │           <span style=\"color: #00af00; text-decoration-color: #00af00\">129</span> │\n",
       "└─────────────────────────────────┴────────────────────────┴───────────────┘\n",
       "</pre>\n"
      ],
      "text/plain": [
       "┏━━━━━━━━━━━━━━━━━━━━━━━━━━━━━━━━━┳━━━━━━━━━━━━━━━━━━━━━━━━┳━━━━━━━━━━━━━━━┓\n",
       "┃\u001b[1m \u001b[0m\u001b[1mLayer (type)                   \u001b[0m\u001b[1m \u001b[0m┃\u001b[1m \u001b[0m\u001b[1mOutput Shape          \u001b[0m\u001b[1m \u001b[0m┃\u001b[1m \u001b[0m\u001b[1m      Param #\u001b[0m\u001b[1m \u001b[0m┃\n",
       "┡━━━━━━━━━━━━━━━━━━━━━━━━━━━━━━━━━╇━━━━━━━━━━━━━━━━━━━━━━━━╇━━━━━━━━━━━━━━━┩\n",
       "│ embedding_1 (\u001b[38;5;33mEmbedding\u001b[0m)         │ (\u001b[38;5;34m32\u001b[0m, \u001b[38;5;34m500\u001b[0m, \u001b[38;5;34m128\u001b[0m)         │     \u001b[38;5;34m1,280,000\u001b[0m │\n",
       "├─────────────────────────────────┼────────────────────────┼───────────────┤\n",
       "│ simple_rnn_1 (\u001b[38;5;33mSimpleRNN\u001b[0m)        │ (\u001b[38;5;34m32\u001b[0m, \u001b[38;5;34m128\u001b[0m)              │        \u001b[38;5;34m32,896\u001b[0m │\n",
       "├─────────────────────────────────┼────────────────────────┼───────────────┤\n",
       "│ dense_1 (\u001b[38;5;33mDense\u001b[0m)                 │ (\u001b[38;5;34m32\u001b[0m, \u001b[38;5;34m1\u001b[0m)                │           \u001b[38;5;34m129\u001b[0m │\n",
       "└─────────────────────────────────┴────────────────────────┴───────────────┘\n"
      ]
     },
     "metadata": {},
     "output_type": "display_data"
    },
    {
     "data": {
      "text/html": [
       "<pre style=\"white-space:pre;overflow-x:auto;line-height:normal;font-family:Menlo,'DejaVu Sans Mono',consolas,'Courier New',monospace\"><span style=\"font-weight: bold\"> Total params: </span><span style=\"color: #00af00; text-decoration-color: #00af00\">1,313,027</span> (5.01 MB)\n",
       "</pre>\n"
      ],
      "text/plain": [
       "\u001b[1m Total params: \u001b[0m\u001b[38;5;34m1,313,027\u001b[0m (5.01 MB)\n"
      ]
     },
     "metadata": {},
     "output_type": "display_data"
    },
    {
     "data": {
      "text/html": [
       "<pre style=\"white-space:pre;overflow-x:auto;line-height:normal;font-family:Menlo,'DejaVu Sans Mono',consolas,'Courier New',monospace\"><span style=\"font-weight: bold\"> Trainable params: </span><span style=\"color: #00af00; text-decoration-color: #00af00\">1,313,025</span> (5.01 MB)\n",
       "</pre>\n"
      ],
      "text/plain": [
       "\u001b[1m Trainable params: \u001b[0m\u001b[38;5;34m1,313,025\u001b[0m (5.01 MB)\n"
      ]
     },
     "metadata": {},
     "output_type": "display_data"
    },
    {
     "data": {
      "text/html": [
       "<pre style=\"white-space:pre;overflow-x:auto;line-height:normal;font-family:Menlo,'DejaVu Sans Mono',consolas,'Courier New',monospace\"><span style=\"font-weight: bold\"> Non-trainable params: </span><span style=\"color: #00af00; text-decoration-color: #00af00\">0</span> (0.00 B)\n",
       "</pre>\n"
      ],
      "text/plain": [
       "\u001b[1m Non-trainable params: \u001b[0m\u001b[38;5;34m0\u001b[0m (0.00 B)\n"
      ]
     },
     "metadata": {},
     "output_type": "display_data"
    },
    {
     "data": {
      "text/html": [
       "<pre style=\"white-space:pre;overflow-x:auto;line-height:normal;font-family:Menlo,'DejaVu Sans Mono',consolas,'Courier New',monospace\"><span style=\"font-weight: bold\"> Optimizer params: </span><span style=\"color: #00af00; text-decoration-color: #00af00\">2</span> (12.00 B)\n",
       "</pre>\n"
      ],
      "text/plain": [
       "\u001b[1m Optimizer params: \u001b[0m\u001b[38;5;34m2\u001b[0m (12.00 B)\n"
      ]
     },
     "metadata": {},
     "output_type": "display_data"
    }
   ],
   "source": [
    "## load pre trained model\n",
    "\n",
    "model = load_model('simple_rnn_model.h5')\n",
    "model.summary()"
   ]
  },
  {
   "cell_type": "code",
   "execution_count": 7,
   "id": "0b92c600",
   "metadata": {},
   "outputs": [
    {
     "data": {
      "text/plain": [
       "[array([[ 5.0542617e-01,  3.9000857e-01,  4.8983648e-01, ...,\n",
       "         -1.1398747e+00,  8.1725907e-01,  1.3598346e+00],\n",
       "        [ 6.9252424e-02,  1.7485678e-02,  7.2377965e-02, ...,\n",
       "         -1.4014554e-01,  4.0618218e-02,  4.8286673e-02],\n",
       "        [ 9.3213283e-02,  1.5088643e-02,  1.1471414e-01, ...,\n",
       "         -2.2427350e-01,  1.4483945e-01,  2.2476113e-01],\n",
       "        ...,\n",
       "        [ 1.0776571e-01, -8.1383094e-02,  1.3883519e-01, ...,\n",
       "          5.6578256e-02, -3.3769857e-02,  8.4691904e-03],\n",
       "        [ 4.0297128e-02, -1.1506665e-01,  9.8951593e-02, ...,\n",
       "          5.2150074e-02, -7.9702539e-03, -1.1996544e-01],\n",
       "        [ 1.6250722e-02,  5.6113474e-02, -1.4931644e-01, ...,\n",
       "         -8.7817200e-02,  1.3707322e-01,  3.6368493e-04]], dtype=float32),\n",
       " array([[ 0.01808461, -0.0513067 , -0.09381757, ..., -0.11680987,\n",
       "         -0.0709407 ,  0.01139219],\n",
       "        [-0.02244589,  0.13111809,  0.13805903, ...,  0.02986477,\n",
       "          0.09190492,  0.06367073],\n",
       "        [-0.11625677, -0.1848112 , -0.1647127 , ..., -0.00706324,\n",
       "          0.01281428,  0.05761488],\n",
       "        ...,\n",
       "        [-0.04222669,  0.03256854,  0.17848423, ..., -0.07058842,\n",
       "          0.11330311, -0.08533912],\n",
       "        [-0.02498172, -0.0223054 , -0.0860319 , ...,  0.05822982,\n",
       "          0.0691898 ,  0.06512222],\n",
       "        [ 0.03568095, -0.15218402, -0.1704941 , ..., -0.07403894,\n",
       "         -0.08045727,  0.17298757]], dtype=float32),\n",
       " array([[-0.01923731, -0.1286065 ,  0.05732881, ..., -0.06375148,\n",
       "         -0.03286524, -0.00992108],\n",
       "        [ 0.12477475, -0.05823572,  0.00866019, ...,  0.06774842,\n",
       "         -0.13334161,  0.09710757],\n",
       "        [-0.06383611,  0.16414182,  0.04630583, ..., -0.00296173,\n",
       "         -0.01489532,  0.17139915],\n",
       "        ...,\n",
       "        [ 0.00850037, -0.15180048, -0.10415661, ..., -0.25726032,\n",
       "          0.03240389,  0.02881003],\n",
       "        [-0.09936216,  0.02965706,  0.09035742, ..., -0.12924407,\n",
       "         -0.18957882, -0.0718056 ],\n",
       "        [-0.05888354, -0.06672624, -0.0804435 , ..., -0.11385897,\n",
       "         -0.05327635, -0.07287914]], dtype=float32),\n",
       " array([-0.03698042, -0.05793919, -0.02663088, -0.00558744, -0.06887472,\n",
       "        -0.0128792 ,  0.02195846, -0.00773792, -0.04912427, -0.02489682,\n",
       "        -0.01794077, -0.11852391,  0.015666  , -0.02703631,  0.04021439,\n",
       "        -0.06443004,  0.00073972,  0.01166723,  0.00758197,  0.01594849,\n",
       "        -0.00990383, -0.02306957, -0.0455564 , -0.0373123 , -0.00824386,\n",
       "        -0.06081808, -0.03802217, -0.0185063 , -0.03021075,  0.01756466,\n",
       "        -0.02520026, -0.07336415,  0.00083666, -0.02319719, -0.0167447 ,\n",
       "        -0.0056443 ,  0.028535  , -0.07187641,  0.00054511,  0.06596238,\n",
       "        -0.00290664,  0.03253197, -0.09961676,  0.05335882, -0.02883057,\n",
       "         0.01980399, -0.06134279, -0.06694864,  0.00016745, -0.01374422,\n",
       "         0.00779125, -0.01782721,  0.00522361, -0.069432  ,  0.04206603,\n",
       "        -0.03673536, -0.07844199,  0.02036068,  0.01524497, -0.03041173,\n",
       "        -0.03118905, -0.01823964, -0.04417503, -0.02417865,  0.03073427,\n",
       "        -0.07342587,  0.0095335 ,  0.00650392, -0.03497232,  0.00027962,\n",
       "        -0.00348024, -0.04497432, -0.06784193, -0.0348165 ,  0.03310146,\n",
       "         0.00371548,  0.03088149, -0.0186125 , -0.01833284,  0.02598488,\n",
       "         0.0104291 ,  0.00566308,  0.00814904, -0.04255641, -0.00586283,\n",
       "        -0.00869399, -0.02958882,  0.00499935, -0.03202889, -0.00592333,\n",
       "         0.03803955, -0.00403517, -0.04676313, -0.02444147, -0.02099169,\n",
       "        -0.0399994 ,  0.02095832,  0.0218049 ,  0.01111254, -0.04581781,\n",
       "        -0.01756872, -0.03001458, -0.03267591,  0.00127509, -0.02306465,\n",
       "         0.04925873, -0.06471079,  0.00629112, -0.02881876, -0.01474749,\n",
       "        -0.00318925, -0.0573946 , -0.0198849 , -0.03630099, -0.0110505 ,\n",
       "        -0.0699822 , -0.00345746,  0.01712119, -0.00636059, -0.02669817,\n",
       "        -0.05910854, -0.01908765, -0.03625646, -0.01335109, -0.02545036,\n",
       "        -0.05120135, -0.00425561,  0.02560756], dtype=float32),\n",
       " array([[ 0.12593164],\n",
       "        [-0.10293019],\n",
       "        [-0.00855945],\n",
       "        [-0.24357788],\n",
       "        [-0.07546731],\n",
       "        [-0.18862455],\n",
       "        [-0.03485181],\n",
       "        [ 0.19696257],\n",
       "        [-0.12313033],\n",
       "        [-0.07365526],\n",
       "        [-0.19695608],\n",
       "        [-0.14421463],\n",
       "        [-0.11439075],\n",
       "        [-0.16003296],\n",
       "        [-0.1569217 ],\n",
       "        [-0.44940403],\n",
       "        [ 0.06876608],\n",
       "        [ 0.16046518],\n",
       "        [-0.18952617],\n",
       "        [-0.04442168],\n",
       "        [-0.05697929],\n",
       "        [-0.1389649 ],\n",
       "        [-0.12272052],\n",
       "        [ 0.20866561],\n",
       "        [ 0.01121496],\n",
       "        [-0.07421688],\n",
       "        [ 0.0851004 ],\n",
       "        [ 0.08273895],\n",
       "        [-0.03077783],\n",
       "        [ 0.22920735],\n",
       "        [ 0.02740997],\n",
       "        [-0.11620203],\n",
       "        [ 0.04355977],\n",
       "        [-0.1164383 ],\n",
       "        [ 0.02723782],\n",
       "        [ 0.29583284],\n",
       "        [ 0.27227733],\n",
       "        [-0.10058207],\n",
       "        [ 0.19430383],\n",
       "        [ 0.21561582],\n",
       "        [-0.1378481 ],\n",
       "        [ 0.02078215],\n",
       "        [-0.0920496 ],\n",
       "        [-0.02233554],\n",
       "        [ 0.2479308 ],\n",
       "        [-0.11676069],\n",
       "        [-0.19047713],\n",
       "        [ 0.16277817],\n",
       "        [-0.12765494],\n",
       "        [-0.18605565],\n",
       "        [ 0.17119087],\n",
       "        [ 0.4066464 ],\n",
       "        [ 0.06977114],\n",
       "        [-0.09152239],\n",
       "        [ 0.18923476],\n",
       "        [-0.1633884 ],\n",
       "        [-0.08881125],\n",
       "        [ 0.11280591],\n",
       "        [ 0.03706869],\n",
       "        [-0.07163021],\n",
       "        [ 0.25924465],\n",
       "        [-0.15803409],\n",
       "        [ 0.03685037],\n",
       "        [ 0.00653571],\n",
       "        [-0.06106085],\n",
       "        [-0.18013416],\n",
       "        [ 0.07780237],\n",
       "        [ 0.20067461],\n",
       "        [ 0.16339508],\n",
       "        [-0.38850346],\n",
       "        [ 0.16082482],\n",
       "        [ 0.06002299],\n",
       "        [-0.1422673 ],\n",
       "        [-0.02351093],\n",
       "        [ 0.360353  ],\n",
       "        [-0.37114713],\n",
       "        [-0.04039861],\n",
       "        [ 0.26707613],\n",
       "        [ 0.1315942 ],\n",
       "        [ 0.14366977],\n",
       "        [ 0.15536697],\n",
       "        [ 0.1706462 ],\n",
       "        [ 0.0648943 ],\n",
       "        [ 0.18942297],\n",
       "        [-0.10136735],\n",
       "        [-0.03747243],\n",
       "        [-0.06480744],\n",
       "        [ 0.2056926 ],\n",
       "        [ 0.03590905],\n",
       "        [-0.09725633],\n",
       "        [-0.15567419],\n",
       "        [-0.00684533],\n",
       "        [ 0.17089342],\n",
       "        [ 0.11689151],\n",
       "        [-0.05766249],\n",
       "        [ 0.21786264],\n",
       "        [-0.18049182],\n",
       "        [ 0.18716787],\n",
       "        [-0.05339642],\n",
       "        [ 0.14444634],\n",
       "        [-0.18223557],\n",
       "        [ 0.03559544],\n",
       "        [ 0.16137339],\n",
       "        [ 0.16579692],\n",
       "        [ 0.00823263],\n",
       "        [ 0.09153856],\n",
       "        [ 0.08635218],\n",
       "        [ 0.1541933 ],\n",
       "        [-0.15492676],\n",
       "        [ 0.14294101],\n",
       "        [ 0.15945573],\n",
       "        [ 0.01944326],\n",
       "        [-0.01697367],\n",
       "        [ 0.15835442],\n",
       "        [-0.17393257],\n",
       "        [ 0.02434846],\n",
       "        [ 0.21762423],\n",
       "        [-0.02242456],\n",
       "        [ 0.14076997],\n",
       "        [ 0.26413846],\n",
       "        [ 0.13937205],\n",
       "        [ 0.24395722],\n",
       "        [-0.0905045 ],\n",
       "        [ 0.06827375],\n",
       "        [-0.06420276],\n",
       "        [ 0.02614548],\n",
       "        [ 0.45744368],\n",
       "        [-0.18735865]], dtype=float32),\n",
       " array([-0.8020966], dtype=float32)]"
      ]
     },
     "execution_count": 7,
     "metadata": {},
     "output_type": "execute_result"
    }
   ],
   "source": [
    "model.get_weights()"
   ]
  },
  {
   "cell_type": "code",
   "execution_count": 8,
   "id": "798a9377",
   "metadata": {},
   "outputs": [],
   "source": [
    "# Step 2: Helper Functions\n",
    "# Function to decode reviews\n",
    "def decode_review(encoded_review):\n",
    "    return ' '.join([reverse_word_index.get(i - 3, '?') for i in encoded_review])\n",
    "\n",
    "# Function to preprocess user input\n",
    "def preprocess_text(text):\n",
    "    words = text.lower().split()\n",
    "    encoded_review = [word_index.get(word, 2) + 3 for word in words]\n",
    "    padded_review = sequence.pad_sequences([encoded_review], maxlen=500)\n",
    "    return padded_review"
   ]
  },
  {
   "cell_type": "code",
   "execution_count": 9,
   "id": "7e70fcb0",
   "metadata": {},
   "outputs": [],
   "source": [
    "## Predection function \n",
    "\n",
    "\n",
    "def predict_sentiment(review):\n",
    "    preprocessed_input = preprocess_text(review)\n",
    "\n",
    "    prediction = model.predict(preprocessed_input)\n",
    "    sentiment = 'Positive' if prediction[0][0] > 0.5 else 'Negative'\n",
    "    return sentiment, prediction[0][0]"
   ]
  },
  {
   "cell_type": "code",
   "execution_count": 10,
   "id": "86c8d293",
   "metadata": {},
   "outputs": [
    {
     "name": "stdout",
     "output_type": "stream",
     "text": [
      "\u001b[1m1/1\u001b[0m \u001b[32m━━━━━━━━━━━━━━━━━━━━\u001b[0m\u001b[37m\u001b[0m \u001b[1m0s\u001b[0m 59ms/step\n",
      "Review: This movie was fantastic! The acting was great and the plot was thrilling.\n",
      "Sentiment: Positive\n",
      "Prediction Score: 0.9996278882026672\n"
     ]
    }
   ],
   "source": [
    "# Step 4: User Input and Prediction\n",
    "# Example review for prediction\n",
    "example_review = \"This movie was fantastic! The acting was great and the plot was thrilling.\"\n",
    "\n",
    "sentiment,score=predict_sentiment(example_review)\n",
    "\n",
    "print(f'Review: {example_review}')\n",
    "print(f'Sentiment: {sentiment}')\n",
    "print(f'Prediction Score: {score}')"
   ]
  },
  {
   "cell_type": "code",
   "execution_count": null,
   "id": "9fac187f",
   "metadata": {},
   "outputs": [],
   "source": []
  }
 ],
 "metadata": {
  "kernelspec": {
   "display_name": "Python 3",
   "language": "python",
   "name": "python3"
  },
  "language_info": {
   "codemirror_mode": {
    "name": "ipython",
    "version": 3
   },
   "file_extension": ".py",
   "mimetype": "text/x-python",
   "name": "python",
   "nbconvert_exporter": "python",
   "pygments_lexer": "ipython3",
   "version": "3.11.11"
  }
 },
 "nbformat": 4,
 "nbformat_minor": 5
}
